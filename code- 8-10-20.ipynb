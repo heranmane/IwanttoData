{
 "cells": [
  {
   "cell_type": "code",
   "execution_count": 1,
   "metadata": {},
   "outputs": [
    {
     "ename": "ModuleNotFoundError",
     "evalue": "No module named 'config'",
     "output_type": "error",
     "traceback": [
      "\u001b[0;31m---------------------------------------------------------------------------\u001b[0m",
      "\u001b[0;31mModuleNotFoundError\u001b[0m                       Traceback (most recent call last)",
      "\u001b[0;32m<ipython-input-1-7b36f908b914>\u001b[0m in \u001b[0;36m<module>\u001b[0;34m\u001b[0m\n\u001b[1;32m     11\u001b[0m \u001b[0mmpl\u001b[0m\u001b[0;34m.\u001b[0m\u001b[0mrcParams\u001b[0m\u001b[0;34m[\u001b[0m\u001b[0;34m'font.size'\u001b[0m\u001b[0;34m]\u001b[0m \u001b[0;34m=\u001b[0m \u001b[0;36m9.0\u001b[0m\u001b[0;34m\u001b[0m\u001b[0;34m\u001b[0m\u001b[0m\n\u001b[1;32m     12\u001b[0m \u001b[0;31m# # Google developer API key\u001b[0m\u001b[0;34m\u001b[0m\u001b[0;34m\u001b[0m\u001b[0;34m\u001b[0m\u001b[0m\n\u001b[0;32m---> 13\u001b[0;31m \u001b[0;32mfrom\u001b[0m \u001b[0mconfig\u001b[0m \u001b[0;32mimport\u001b[0m \u001b[0mgkey\u001b[0m\u001b[0;34m\u001b[0m\u001b[0;34m\u001b[0m\u001b[0m\n\u001b[0m\u001b[1;32m     14\u001b[0m \u001b[0;34m\u001b[0m\u001b[0m\n\u001b[1;32m     15\u001b[0m \u001b[0;34m\u001b[0m\u001b[0m\n",
      "\u001b[0;31mModuleNotFoundError\u001b[0m: No module named 'config'"
     ]
    }
   ],
   "source": [
    "\n",
    "import gmaps\n",
    "import numpy as np\n",
    "import pandas as pd\n",
    "import os\n",
    "import scipy.stats as st\n",
    "import time\n",
    "from scipy.stats import linregress\n",
    "from matplotlib import pyplot as plt\n",
    "import requests\n",
    "import matplotlib as mpl\n",
    "mpl.rcParams['font.size'] = 9.0\n",
    "# # Google developer API key\n",
    "from config import gkey\n",
    "\n",
    "\n",
    "# read DataFrame\n",
    "path = pd.read_csv('../01._Prospective_Project_Data/1._72199_158097_compressed_indeed_job_dataset.csv/indeed_job_dataset_V3_CSV.csv')\n",
    "df = pd.DataFrame(path)\n",
    "df\n",
    "# airport_df = pd.read_csv('../Resources/Airport_Output.csv')\n",
    "df.fillna(0) \n",
    "df\n"
   ]
  },
  {
   "cell_type": "code",
   "execution_count": null,
   "metadata": {},
   "outputs": [],
   "source": [
    "# data = {'Salary_Index':  [1,2,3,4,5,6],\n",
    "#         'Salary_Bracket': [\"<80000\",\"80000-99999\",\"100000-119999\",\"120000-139999\",\"140000-159999\",\">160000\"]\n",
    "#         }\n",
    "\n",
    "# dfn = pd.DataFrame (data, columns = ['Salary_Index','Salary_Bracket'])\n",
    "\n",
    "# dfn"
   ]
  },
  {
   "cell_type": "code",
   "execution_count": null,
   "metadata": {},
   "outputs": [],
   "source": [
    "df_cleaned = df.drop(columns=df.columns[(df['No_of_Skills'] == '0').any()])\n",
    "df_cleaned = df.dropna(subset=['No_of_Skills'])\n",
    "df_cleaned\n"
   ]
  },
  {
   "cell_type": "code",
   "execution_count": null,
   "metadata": {},
   "outputs": [],
   "source": [
    "# for col in df_cleaned.columns: \n",
    "#      print(col) "
   ]
  },
  {
   "cell_type": "markdown",
   "metadata": {},
   "source": [
    "# Analysis Stats for Salary vs Job_Type"
   ]
  },
  {
   "cell_type": "code",
   "execution_count": null,
   "metadata": {},
   "outputs": [],
   "source": [
    "#stats summary for salary based on job Types \n",
    "average=df_cleaned.groupby(['Job_Type']).mean()['Salary_Index']\n",
    "median=df_cleaned.groupby(['Job_Type']).median()['Salary_Index']\n",
    "variance=df_cleaned.groupby(['Job_Type']).var()['Salary_Index']\n",
    "standard_deviation=df_cleaned.groupby(['Job_Type']).std()['Salary_Index']\n",
    "sem=df_cleaned.groupby(['Job_Type']).sem()['Salary_Index']\n",
    "\n",
    "# Created a DF\n",
    "stats_summary_salary=pd.DataFrame({\"Mean Salary Index\": average,\n",
    "                           \"Median Salary Index\": median,\n",
    "                           \"Salary Index Variance\":variance,\n",
    "                           \"Salary Index Std. Dev.\":standard_deviation,\n",
    "                           \"Salary Index Std. Err.\":sem\n",
    "                          })\n",
    "\n",
    "stats_summary_salary"
   ]
  },
  {
   "cell_type": "code",
   "execution_count": null,
   "metadata": {},
   "outputs": [],
   "source": [
    "#calculate stats for all job types and add to DF\n",
    "\n",
    "total_mean=df_cleaned['Salary_Index'].mean()\n",
    "total_median=df_cleaned['Salary_Index'].median()\n",
    "total_variance=df_cleaned['Salary_Index'].var()\n",
    "total_std=df_cleaned['Salary_Index'].std()\n",
    "total_sem=df_cleaned['Salary_Index'].sem()\n",
    "\n",
    "# stats summary by job type \n",
    "stats_summary_salary.loc['All Job Types',:] = [total_mean, total_median, total_variance, total_std,total_sem]\n",
    "\n",
    "\n",
    "stats_summary_salary.round(1)\n"
   ]
  },
  {
   "cell_type": "markdown",
   "metadata": {},
   "source": [
    "# Analysis Stats for Number of Skills vs Job_Type"
   ]
  },
  {
   "cell_type": "code",
   "execution_count": null,
   "metadata": {},
   "outputs": [],
   "source": [
    "\n",
    "#stats summary by # of skills for each job tytle\n",
    "average=df_cleaned.groupby(['Job_Type']).mean()['No_of_Skills']\n",
    "median=df_cleaned.groupby(['Job_Type']).median()['No_of_Skills']\n",
    "variance=df_cleaned.groupby(['Job_Type']).var()['No_of_Skills']\n",
    "standard_deviation=df_cleaned.groupby(['Job_Type']).std()['No_of_Skills']\n",
    "sem=df_cleaned.groupby(['Job_Type']).sem()['No_of_Skills']\n",
    "# max_skills=df_cleaned['No_of_Skills'].max()\n",
    "# min_skills=df_cleaned['No_of_Skills'].min()\n",
    "\n",
    "# Created a DF\n",
    "stats_summary2=pd.DataFrame({\"Mean Number of Skills \": average,\n",
    "                             \"Median Number of Skills\": median,\n",
    "                             \"Number of Skills Variance\":variance,\n",
    "#                              \"Max Number of Skills .\":max_skills,\n",
    "#                              \"Min Number of Skills .\":min_skills,\n",
    "                             \"Number of Skills Std. Dev.\":standard_deviation,\n",
    "                             \"Number of Skills Std. Err.\":sem})\n",
    "\n",
    "#stats summary by # of skills for all jobs\n",
    "\n",
    "skill_mean=df_cleaned['No_of_Skills'].mean()\n",
    "skill_median=df_cleaned['No_of_Skills'].median()\n",
    "min_skills=df_cleaned['No_of_Skills'].min()\n",
    "max_skills=df_cleaned['No_of_Skills'].max()\n",
    "skill_variance=df_cleaned['No_of_Skills'].var()\n",
    "skill_std=df_cleaned['No_of_Skills'].std()\n",
    "skill_sem=df_cleaned['No_of_Skills'].sem()\n",
    "\n",
    "# stats summary by job type \n",
    "stats_summary2.loc['All Job Types',:] = [skill_mean, skill_median, skill_variance, skill_std,skill_sem]\n",
    "stats_summary2.round(1)"
   ]
  },
  {
   "cell_type": "markdown",
   "metadata": {},
   "source": [
    "# Job Vacancy by Industry"
   ]
  },
  {
   "cell_type": "code",
   "execution_count": null,
   "metadata": {},
   "outputs": [],
   "source": [
    "#create DF by industry type, salary, and job title \n",
    "industry_df=df_cleaned[['Job_Title',\\\n",
    "                       'Queried_Salary',\\\n",
    "                       'Consulting and Business Services',\\\n",
    "                       'Internet and Software',\\\n",
    "                       'Banks and Financial Services',\\\n",
    "                       'Health Care',\\\n",
    "                       'Insurance',\\\n",
    "                       'Other_industries']]\n",
    "industry_df\n"
   ]
  },
  {
   "cell_type": "code",
   "execution_count": null,
   "metadata": {},
   "outputs": [],
   "source": [
    "# fill blanks in industry with other\n",
    "d=df_cleaned['Company_Industry'].fillna(\"Other\")\n",
    "e=pd.DataFrame(d)\n",
    "#count other\n",
    "count_other=(len(e[e['Company_Industry']=='Other']))\n"
   ]
  },
  {
   "cell_type": "code",
   "execution_count": null,
   "metadata": {},
   "outputs": [],
   "source": [
    "#calculate total nums of industry for each job title\n",
    "#consulting\n",
    "consulting_tot=industry_df['Consulting and Business Services'].sum()\n",
    "\n",
    "#internet & software\n",
    "internet_tot=industry_df['Internet and Software'].sum()\n",
    "\n",
    "#banks\n",
    "banks_tot=industry_df['Banks and Financial Services'].sum()\n",
    "\n",
    "#health\n",
    "health_tot=industry_df['Health Care'].sum()\n",
    "\n",
    "#insurance\n",
    "insurance_tot=industry_df['Insurance'].sum()\n",
    "\n",
    "\n",
    "\n",
    "#other industry + unidentified industry\n",
    "other_tot=(industry_df['Other_industries'].sum())+ count_other\n"
   ]
  },
  {
   "cell_type": "code",
   "execution_count": null,
   "metadata": {},
   "outputs": [],
   "source": [
    "total_postings=industry_df['Consulting and Business Services'].count()\n",
    "total_postings\n"
   ]
  },
  {
   "cell_type": "code",
   "execution_count": null,
   "metadata": {},
   "outputs": [],
   "source": [
    "#percentage by industry\n",
    "# consult_percent=\"{:.0%}\".format(consulting_tot/total_postings)\n",
    "\n",
    "# internet_percent=\"{:.0%}\".format(internet_tot/total_postings)\n",
    "\n",
    "# banks_percent=\"{:.0%}\".format(banks_tot/total_postings)\n",
    "\n",
    "# health_percent=\"{:.0%}\".format(health_tot/total_postings)\n",
    "\n",
    "# insurance_percent=\"{:.0%}\".format(insurance_tot/total_postings)\n",
    "\n",
    "# other_percent=\"{:.0%}\".format(other_tot/total_postings)\n",
    "\n",
    "\n",
    "percentage_summary=pd.DataFrame({\"Count of Consulting Industry\": consulting_tot,\n",
    "                           \"Count of Internet Industry\":internet_tot,\n",
    "                           \"Count of Banks\":banks_tot,\n",
    "                           \"Count of Health\":health_tot,\n",
    "                           \"Count of Insurance\":insurance_tot,\n",
    "                            \"Count of Other\":other_tot },index=[0])\n",
    "# percentage_summary\n",
    "data={'Industries':[\"Consulting and Business Services\",\\\n",
    "                    \"Internet and Software\",\\\n",
    "                    \"Banks and Financial Services\",\\\n",
    "                    \"Health Care\",\\\n",
    "                    \"Insurance\",\\\n",
    "                    \"Other Industries\"],'Vacancy_count':[consulting_tot,internet_tot,banks_tot,health_tot,insurance_tot,other_tot]}\n",
    "summary_df = pd.DataFrame(data)\n",
    "summary_df['Vacancy_count'].astype(float)"
   ]
  },
  {
   "cell_type": "code",
   "execution_count": null,
   "metadata": {},
   "outputs": [],
   "source": [
    "subset=summary_df.set_index('Industries')\n",
    "subset\n",
    "# plot = summary_df.plot.pie(subplots=True, figsize=(11, 6))"
   ]
  },
  {
   "cell_type": "code",
   "execution_count": null,
   "metadata": {},
   "outputs": [],
   "source": [
    "explode=(0.15, 0, 0.0, 0, 0,0)\n",
    "tots=summary_df['Vacancy_count']\n",
    "title = plt.title(\"Job Vacancy by Industry\",bbox={'facecolor':'0.8', 'pad':7})\n",
    "title.set_ha(\"left\")\n",
    "plt.gca().axis(\"equal\")\n",
    "pie = plt.pie(tots, startangle=0,autopct='%1.1f%%',radius=2,explode=explode)\n",
    "labels=summary_df['Industries']\n",
    "plt.legend(labels, bbox_to_anchor=(1.1,0.5), loc=\"lower right\", fontsize=10, \n",
    "           bbox_transform=plt.gcf().transFigure)\n",
    "plt.subplots_adjust(left=0.0, bottom=0.1, right=0.45)\n",
    "plt.savefig('../04._Output/industrypie.png')"
   ]
  },
  {
   "cell_type": "code",
   "execution_count": null,
   "metadata": {},
   "outputs": [],
   "source": [
    "# explode=(0.15, 0, 0.0, 0, 0,0) \n",
    "# subset.plot.pie(y='Vacancy_count',\\\n",
    "#                 figsize=(5, 5),\\\n",
    "#                 radius=1,\\\n",
    "#                 textprops={'fontsize': 10},\\\n",
    "#                 autopct='%1.1f%%',\\\n",
    "#                 startangle=90,\\\n",
    "#                 pctdistance=0.7,\\\n",
    "#                 labeldistance=1.1,\\\n",
    "#                 explode=explode)\n",
    "\n",
    "# ax=plt.subplot()\n",
    "\n",
    "# ax.legend(loc='lower right',bbox_to_anchor=(2, 0, 0, 5))\n",
    "\n",
    "\n",
    "\n",
    "# plt.savefig('../04._Output/industrypie.png')\n",
    "# #text size"
   ]
  },
  {
   "cell_type": "markdown",
   "metadata": {},
   "source": [
    "# Highest Paying Industry"
   ]
  },
  {
   "cell_type": "code",
   "execution_count": null,
   "metadata": {},
   "outputs": [],
   "source": [
    "#filter by highest pay \n",
    "high_pay_industry=industry_df[industry_df['Queried_Salary']== '>160000']\n",
    "high_pay_industry\n"
   ]
  },
  {
   "cell_type": "code",
   "execution_count": null,
   "metadata": {},
   "outputs": [],
   "source": [
    "#calculate total nums of industry for each job title\n",
    "#consulting\n",
    "consulting=high_pay_industry['Consulting and Business Services'].sum()\n",
    "\n",
    "#internet & software\n",
    "internet=high_pay_industry['Internet and Software'].sum()\n",
    "\n",
    "#banks\n",
    "banks=high_pay_industry['Banks and Financial Services'].sum()\n",
    "\n",
    "#health\n",
    "health=high_pay_industry['Health Care'].sum()\n",
    "\n",
    "#insurance\n",
    "insurance=high_pay_industry['Insurance'].sum()\n",
    "\n",
    "#other industry\n",
    "other2=high_pay_industry['Other_industries'].sum()\n",
    "other2\n"
   ]
  },
  {
   "cell_type": "code",
   "execution_count": null,
   "metadata": {},
   "outputs": [],
   "source": [
    "total_industry=consulting+internet+banks+health+insurance+other2\n",
    "total_industry"
   ]
  },
  {
   "cell_type": "code",
   "execution_count": null,
   "metadata": {},
   "outputs": [],
   "source": [
    "#percentage by industry\n",
    "# consult_percentage2=\"{:.0%}\".format(consulting/total_postings)\n",
    "# print(consult_percentage2)\n",
    "# internet_percentage=\"{:.0%}\".format(internet/total_postings)\n",
    "\n",
    "# banks_percentage=\"{:.0%}\".format(banks/total_postings)\n",
    "\n",
    "# health_percentage=\"{:.0%}\".format(health/total_postings)\n",
    "\n",
    "# insurance_percentage=\"{:.0%}\".format(insurance/total_postings)\n",
    "\n",
    "# other_percentage=\"{:.0%}\".format(other/total_postings)\n",
    "\n",
    "\n",
    "percentage_summary=pd.DataFrame({\"Count of Consulting Industry\": consulting_tot,\n",
    "                           \"Count of Internet Industry\":internet_tot,\n",
    "                           \"Count of Banks\":banks_tot,\n",
    "                           \"Count of Health\":health_tot,\n",
    "                           \"Count of Insurance\":insurance_tot,\n",
    "                            \"Count of Other\":other_tot },index=[0])\n",
    "# percentage_summary\n",
    "data2={'Industries':[\"Consulting and Business Services\",\\\n",
    "                    \"Internet and Software\",\\\n",
    "                    \"Banks and Financial Services\",\\\n",
    "                    \"Health Care\",\\\n",
    "                    \"Insurance\",\\\n",
    "                    \"Other Industries\"],'Totals':[consulting,internet,banks,health,insurance,other2]}\n",
    "summary_df2 = pd.DataFrame(data2)\n",
    "summary_df2\n"
   ]
  },
  {
   "cell_type": "code",
   "execution_count": null,
   "metadata": {},
   "outputs": [],
   "source": [
    "explode=(0.05, 0, 0.0, 0, 0,0)\n",
    "totals=summary_df2['Totals']\n",
    "title = plt.title(\"Highest Paying Job Vacancy by Industry\",bbox={'facecolor':'0.8', 'pad':6})\n",
    "title.set_ha(\"right\")\n",
    "plt.gca().axis(\"equal\")\n",
    "pie = plt.pie(totals, startangle=0,autopct='%1.1f%%',pctdistance=1.08,radius=2,explode=explode)\n",
    "labels=summary_df2['Industries']\n",
    "plt.legend(labels, bbox_to_anchor=(1.1,0.5), loc=\"lower right\", fontsize=10, \n",
    "           bbox_transform=plt.gcf().transFigure)\n",
    "plt.subplots_adjust(left=0.0, bottom=0.1, right=0.45)\n",
    "plt.savefig('../04._Output/highpayindustrypie1.png')\n",
    "\n"
   ]
  },
  {
   "cell_type": "code",
   "execution_count": null,
   "metadata": {},
   "outputs": [],
   "source": [
    "# #analyze vacancy for highest paying jobs by industry sans others\n",
    "# data3={'Industries':[\"Consulting and Business Services\",\\\n",
    "#                     \"Internet and Software\",\\\n",
    "#                     \"Banks and Financial Services\",\\\n",
    "#                     \"Health Care\",\\\n",
    "#                     \"Insurance\"],'Totals':[consulting,internet,banks,health,insurance,]}\n",
    "# summary_df3 = pd.DataFrame(data3)\n",
    "# summary_df3\n"
   ]
  },
  {
   "cell_type": "code",
   "execution_count": null,
   "metadata": {},
   "outputs": [],
   "source": [
    "# explode=(0.02, 0, 0.0, 0, 0)\n",
    "# totals=summary_df3['Totals']\n",
    "# title = plt.title(\"Job Vacancy for Highest Paying Industry\",bbox={'facecolor':'0.8', 'pad':7})\n",
    "# title.set_ha(\"left\")\n",
    "# plt.gca().axis(\"equal\")\n",
    "# pie = plt.pie(totals, startangle=0,autopct='%1.1f%%',radius=2,explode=explode)\n",
    "# labels=summary_df2['Industries']\n",
    "# plt.legend(labels, bbox_to_anchor=(1,0.5), loc=\"center right\", fontsize=10, \n",
    "#            bbox_transform=plt.gcf().transFigure)\n",
    "# plt.subplots_adjust(left=0.0, bottom=0.1, right=0.45)\n",
    "# plt.savefig('../04._Output/highpayindustrypie2.png')"
   ]
  },
  {
   "cell_type": "markdown",
   "metadata": {},
   "source": []
  },
  {
   "cell_type": "markdown",
   "metadata": {},
   "source": [
    "# Job Availability By Company"
   ]
  },
  {
   "cell_type": "code",
   "execution_count": null,
   "metadata": {},
   "outputs": [],
   "source": [
    "# total_no_cities=df[\"Location\"].unique()\n",
    "# total_no_cities clean\n",
    "# city_index = (df_cleaned[ df_cleaned['Location'] == 'REMOTE' ].index)\n",
    "# df_cleaned.drop(city_index, inplace=True)\n",
    "\n",
    "# city_index = (df_cleaned[ df_cleaned['Location'] == 'USA' ].index)\n",
    "# df_cleaned.drop(city_index, inplace=True)\n",
    "# city_index"
   ]
  },
  {
   "cell_type": "code",
   "execution_count": null,
   "metadata": {},
   "outputs": [],
   "source": [
    "city_index2 = df_cleaned[ df_cleaned['Location'] == 'nan' ].index\n",
    "df_cleaned.drop(city_index2, inplace=True)\n"
   ]
  },
  {
   "cell_type": "code",
   "execution_count": null,
   "metadata": {},
   "outputs": [],
   "source": [
    "df_cleaned.dropna(subset=['Location'], inplace=True)\n"
   ]
  },
  {
   "cell_type": "markdown",
   "metadata": {},
   "source": [
    "# Job vancancy/demand by state and company-Top 10"
   ]
  },
  {
   "cell_type": "code",
   "execution_count": null,
   "metadata": {},
   "outputs": [],
   "source": [
    "# #find company with most job listings(top 10)\n",
    "num_company=df_cleaned['Company'].nunique()\n",
    "print(f'There are a total of {num_company} job openings')\n",
    "\n",
    "most_job_openings= df_cleaned.groupby(['Company'])['Job_Type'].count()\n",
    "ratio=most_job_openings/total_postings*100\n",
    "\n",
    "top_company=pd.DataFrame(ratio.nlargest(10))\n",
    "top_company\n",
    "\n",
    "#plot\n",
    "plt.figure(figsize=(12,10))\n",
    "plot=top_company.plot(kind='bar', align=\"center\",figsize = (15,7),width = 0.8,color='turquoise', fontsize=15)\n",
    "\n",
    "plt.title(\"Job Vacancy by Company(top 10 Companies)\",fontsize=15)\n",
    "plt.ylabel('Job Vacancies (Percentage Points)')\n",
    "plt.show()\n",
    "\n",
    "plt.savefig('../04._Output/jobvacancybycompanybar.png',fontsize=15)"
   ]
  },
  {
   "cell_type": "markdown",
   "metadata": {},
   "source": [
    "# Jobs By State"
   ]
  },
  {
   "cell_type": "code",
   "execution_count": 27,
   "metadata": {},
   "outputs": [
    {
     "name": "stdout",
     "output_type": "stream",
     "text": [
      "            Company\n",
      "Location           \n",
      "AL         0.291811\n",
      "AR         0.492431\n",
      "AZ         0.875433\n",
      "CA        24.092650\n",
      "CO         1.896772\n",
      "CT         1.331388\n",
      "DC         2.389203\n",
      "DE         0.291811\n",
      "FL         1.805581\n",
      "GA         2.316250\n",
      "HI         0.109429\n",
      "IA         0.547146\n",
      "ID         0.109429\n",
      "IL         4.158307\n",
      "IN         0.766004\n",
      "KS         0.164144\n",
      "KY         0.218858\n",
      "LA         0.109429\n",
      "MA         4.468357\n",
      "MD         2.972825\n",
      "ME         0.237096\n",
      "MI         1.477293\n",
      "MN         1.130768\n",
      "MO         1.349626\n",
      "MT         0.018238\n",
      "NC         2.370965\n",
      "ND         0.018238\n",
      "NE         0.182382\n",
      "NH         0.127667\n",
      "NJ         2.206821\n",
      "NM         0.072953\n",
      "NV         0.310049\n",
      "NY        10.468722\n",
      "OH         1.805581\n",
      "OK         0.072953\n",
      "OR         1.021339\n",
      "PA         2.370965\n",
      "REMOTE     0.200620\n",
      "RI         0.127667\n",
      "SC         0.419478\n",
      "SD         0.018238\n",
      "TN         0.784242\n",
      "TX         5.690316\n",
      "USA        1.240197\n",
      "UT         0.620098\n",
      "VA         5.890936\n",
      "VT         0.036476\n",
      "WA         3.775305\n",
      "WI         0.674813\n",
      "WV         0.054715\n",
      "WY         0.036476\n"
     ]
    },
    {
     "data": {
      "image/png": "[encoded data removed]",
      "text/plain": [
       "<Figure size 1080x504 with 1 Axes>"
      ]
     },
     "metadata": {
      "needs_background": "light"
     },
     "output_type": "display_data"
    }
   ],
   "source": [
    "#all states\n",
    "job_count_city=df_cleaned.groupby(['Location'])['Company'].count()\n",
    "ratio2=job_count_city/total_postings*100\n",
    "state_df=pd.DataFrame(ratio2)\n",
    "\n",
    "#plot bar\n",
    "plot=state_df.plot(kind='bar', align=\"center\",figsize = (15,7))\n",
    "plt.title('Job openings by State')\n",
    "plt.ylabel('Percentage of Job Vacancies')\n",
    "# plt.show()\n",
    "plt.savefig('../04._Output/job_vacancy_by_allstates.png')\n",
    "print(state_df)"
   ]
  },
  {
   "cell_type": "code",
   "execution_count": 28,
   "metadata": {},
   "outputs": [
    {
     "data": {
      "image/png": "[encoded data removed]",
      "text/plain": [
       "<Figure size 1080x504 with 1 Axes>"
      ]
     },
     "metadata": {
      "needs_background": "light"
     },
     "output_type": "display_data"
    },
    {
     "data": {
      "text/plain": [
       "<Figure size 432x288 with 0 Axes>"
      ]
     },
     "metadata": {},
     "output_type": "display_data"
    }
   ],
   "source": [
    "#top 10 states\n",
    "state_df2=pd.DataFrame(ratio2.nlargest(10))\n",
    "\n",
    "##plot bar\n",
    "plot=state_df2.plot(kind='bar', align=\"center\",color='turquoise',figsize = (15,7))\n",
    "plt.title('Job openings by State')\n",
    "plt.ylabel('Job Vacancies (Percentage Points)')\n",
    "plt.show()\n",
    "plt.savefig('../04._Output/job_vacancy_by_topstates.png')"
   ]
  },
  {
   "cell_type": "code",
   "execution_count": null,
   "metadata": {},
   "outputs": [],
   "source": []
  },
  {
   "cell_type": "markdown",
   "metadata": {},
   "source": [
    "# Map Where The Jobs are "
   ]
  },
  {
   "cell_type": "code",
   "execution_count": 29,
   "metadata": {},
   "outputs": [],
   "source": [
    "# Jobs By Industry\n",
    "\n",
    "industry_df=pd.DataFrame(df_cleaned.loc[:,['Location',\\\n",
    "                                    'Consulting and Business Services',\\\n",
    "                                    'Internet and Software',\\\n",
    "                                    'Banks and Financial Services',\\\n",
    "                                    'Health Care',\\\n",
    "                                   'Insurance',\\\n",
    "                                    'Company']])\n",
    "industry_df.dropna()\n",
    "\n",
    "industry_df\n",
    "map_industry=industry_df.groupby(['Location'])['Company'].count()\n",
    "\n",
    "map_df=pd.DataFrame(map_industry)\n",
    "grouped_map=map_df.reset_index()\n"
   ]
  },
  {
   "cell_type": "code",
   "execution_count": 30,
   "metadata": {},
   "outputs": [
    {
     "data": {
      "text/plain": [
       "array(['AL', 'AR', 'AZ', 'CA', 'CO', 'CT', 'DC', 'DE', 'FL', 'GA', 'HI',\n",
       "       'IA', 'ID', 'IL', 'IN', 'KS', 'KY', 'LA', 'MA', 'MD', 'ME', 'MI',\n",
       "       'MN', 'MO', 'MT', 'NC', 'ND', 'NE', 'NH', 'NJ', 'NM', 'NV', 'NY',\n",
       "       'OH', 'OK', 'OR', 'PA', 'REMOTE', 'RI', 'SC', 'SD', 'TN', 'TX',\n",
       "       'USA', 'UT', 'VA', 'VT', 'WA', 'WI', 'WV', 'WY'], dtype=object)"
      ]
     },
     "execution_count": 30,
     "metadata": {},
     "output_type": "execute_result"
    }
   ],
   "source": [
    "grouped_map.head()\n",
    "grouped_map[\"Location\"].unique()"
   ]
  },
  {
   "cell_type": "code",
   "execution_count": 31,
   "metadata": {},
   "outputs": [
    {
     "data": {
      "text/plain": [
       "array(['AL', 'AR', 'AZ', 'CA', 'CO', 'CT', 'DC', 'DE', 'FL', 'GA', 'HI',\n",
       "       'IA', 'ID', 'IL', 'IN', 'KS', 'KY', 'LA', 'MA', 'MD', 'ME', 'MI',\n",
       "       'MN', 'MO', 'MT', 'NC', 'ND', 'NE', 'NH', 'NJ', 'NM', 'NV', 'NY',\n",
       "       'OH', 'OK', 'OR', 'PA', 'RI', 'SC', 'SD', 'TN', 'TX', 'UT', 'VA',\n",
       "       'VT', 'WA', 'WI', 'WV', 'WY'], dtype=object)"
      ]
     },
     "execution_count": 31,
     "metadata": {},
     "output_type": "execute_result"
    }
   ],
   "source": [
    "# grouped_map.drop('REMOTE')\n",
    "grouped_map = grouped_map[grouped_map.Location != 'REMOTE']\n",
    "grouped_map = grouped_map[grouped_map.Location != 'USA']\n",
    "grouped_map[\"Location\"].unique()"
   ]
  },
  {
   "cell_type": "code",
   "execution_count": 32,
   "metadata": {},
   "outputs": [
    {
     "data": {
      "text/plain": [
       "array([' '], dtype=object)"
      ]
     },
     "execution_count": 32,
     "metadata": {},
     "output_type": "execute_result"
    }
   ],
   "source": [
    "#create df by state with lat and lng columns\n",
    "grouped_map[\"Lat\"] = \" \"\n",
    "grouped_map[\"Lng\"] = \" \"\n",
    "grouped_map.groupby(['Location'])\n",
    "\n",
    "# drop remote cities and USA\n",
    "\n",
    "\n",
    "state_bylocation=pd.DataFrame(grouped_map)\n",
    "# state_bylocation.head()\n",
    "state_bylocation['Lat'].unique()\n"
   ]
  },
  {
   "cell_type": "code",
   "execution_count": 33,
   "metadata": {},
   "outputs": [
    {
     "name": "stdout",
     "output_type": "stream",
     "text": [
      "{'lat': 32.3182314, 'lng': -86.902298}\n",
      "{'lat': 36.1481727, 'lng': -95.9725076}\n",
      "{'lat': 34.0489281, 'lng': -111.0937311}\n",
      "{'lat': 36.778261, 'lng': -119.4179324}\n",
      "Missing field/result... skipping.\n",
      "{'lat': 41.6032207, 'lng': -73.087749}\n",
      "{'lat': 37.031914, 'lng': -95.615845}\n",
      "{'lat': 38.9108325, 'lng': -75.52766989999999}\n",
      "{'lat': 27.6648274, 'lng': -81.5157535}\n",
      "{'lat': 32.1656221, 'lng': -82.9000751}\n",
      "{'lat': 19.8967662, 'lng': -155.5827818}\n",
      "{'lat': 41.8780025, 'lng': -93.097702}\n",
      "{'lat': 44.0682019, 'lng': -114.7420408}\n",
      "{'lat': 40.6331249, 'lng': -89.3985283}\n",
      "{'lat': 40.2671941, 'lng': -86.1349019}\n",
      "{'lat': 39.011902, 'lng': -98.4842465}\n",
      "{'lat': 37.8393332, 'lng': -84.2700179}\n",
      "{'lat': 34.0522342, 'lng': -118.2436849}\n",
      "{'lat': 42.4072107, 'lng': -71.3824374}\n",
      "{'lat': 39.0457549, 'lng': -76.64127119999999}\n",
      "{'lat': 37.2229608, 'lng': -95.70781389999999}\n",
      "{'lat': 37.1656678, 'lng': -95.1071898}\n",
      "{'lat': 46.729553, 'lng': -94.6858998}\n",
      "{'lat': 37.9642529, 'lng': -91.8318334}\n",
      "{'lat': 46.8796822, 'lng': -110.3625658}\n",
      "{'lat': 35.7595731, 'lng': -79.01929969999999}\n",
      "{'lat': 47.5514926, 'lng': -101.0020119}\n",
      "{'lat': 41.4925374, 'lng': -99.9018131}\n",
      "{'lat': 43.1938516, 'lng': -71.5723953}\n",
      "{'lat': 40.0583238, 'lng': -74.4056612}\n",
      "{'lat': 34.5199402, 'lng': -105.8700901}\n",
      "{'lat': 38.8026097, 'lng': -116.419389}\n",
      "{'lat': 40.7127753, 'lng': -74.0059728}\n",
      "{'lat': 40.4172871, 'lng': -82.90712300000001}\n",
      "{'lat': 35.0077519, 'lng': -97.092877}\n",
      "{'lat': 37.2242358, 'lng': -95.7083131}\n",
      "{'lat': 41.2033216, 'lng': -77.1945247}\n",
      "{'lat': 41.5800945, 'lng': -71.4774291}\n",
      "{'lat': 33.836081, 'lng': -81.1637245}\n",
      "{'lat': 43.9695148, 'lng': -99.9018131}\n",
      "{'lat': 35.5174913, 'lng': -86.5804473}\n",
      "{'lat': 31.9685988, 'lng': -99.9018131}\n",
      "{'lat': 35.9544013, 'lng': -83.92945639999999}\n",
      "{'lat': 37.3664814, 'lng': -95.2644709}\n",
      "{'lat': 44.5588028, 'lng': -72.57784149999999}\n",
      "{'lat': 47.7510741, 'lng': -120.7401385}\n",
      "{'lat': 43.7844397, 'lng': -88.7878678}\n",
      "{'lat': 38.5976262, 'lng': -80.4549026}\n",
      "{'lat': 43.0759678, 'lng': -107.2902839}\n"
     ]
    }
   ],
   "source": [
    "params = {\"key\": gkey}\n",
    "# max_rows=200\n",
    "# Loop through the location and run a lat/long search for each city\n",
    "for index, row in state_bylocation.iterrows():\n",
    "    base_url = \"https://maps.googleapis.com/maps/api/geocode/json\"\n",
    "    state = row['Location']\n",
    "    \n",
    "    try:\n",
    "\n",
    "    # update address key value\n",
    "        params['address'] = f\"{state}\"\n",
    "\n",
    "        #     # make request\n",
    "        state_lat_lng = requests.get(base_url, params=params)\n",
    "\n",
    "        #     # print the cities_lat_lng url, avoid doing for public github repos in order to avoid exposing key\n",
    "        #     print(state_lat_lng.url)\n",
    "\n",
    "        # #     # convert to json\n",
    "        state_lat_lng = state_lat_lng.json()\n",
    "        print(state_lat_lng['results'][0]['geometry']['location'])\n",
    "        #     time.sleep(1.00)\n",
    "\n",
    "        state_bylocation.loc[index, \"Lat\"] = state_lat_lng[\"results\"][0]['geometry'][\"location\"][\"lat\"]\n",
    "        state_bylocation.loc[index,'Lng']= state_lat_lng[\"results\"][0]['geometry'][\"location\"][\"lng\"]\n",
    "        #     if index >max_rows and max_rows>0:\n",
    "        #         break\n",
    "\n",
    "\n",
    "    except (KeyError, IndexError):\n",
    "        print(\"Missing field/result... skipping.\")\n",
    "        \n",
    "\n",
    "\n"
   ]
  },
  {
   "cell_type": "code",
   "execution_count": 34,
   "metadata": {},
   "outputs": [],
   "source": [
    "        #change lat and lng to float \n",
    "\n",
    "# state_bylocation=state_bylocation[state_bylocation.Location != 'CO']\n",
    "# grouped_map = grouped_map[grouped_map.Location != 'REMOTE']\n",
    "# state_bylocation.dtypes\n",
    "\n",
    "# state_bylocation.astype({'Lat': 'float'}).dtypes\n",
    "# state_bylocation.astype({'Lng': 'float'}).dtypes\n",
    "\n",
    "# state_bylocation.head()\n"
   ]
  },
  {
   "cell_type": "code",
   "execution_count": 37,
   "metadata": {},
   "outputs": [
    {
     "data": {
      "text/html": [
       "<div>\n",
       "<style scoped>\n",
       "    .dataframe tbody tr th:only-of-type {\n",
       "        vertical-align: middle;\n",
       "    }\n",
       "\n",
       "    .dataframe tbody tr th {\n",
       "        vertical-align: top;\n",
       "    }\n",
       "\n",
       "    .dataframe thead th {\n",
       "        text-align: right;\n",
       "    }\n",
       "</style>\n",
       "<table border=\"1\" class=\"dataframe\">\n",
       "  <thead>\n",
       "    <tr style=\"text-align: right;\">\n",
       "      <th></th>\n",
       "      <th>Location</th>\n",
       "      <th>Company</th>\n",
       "      <th>Lat</th>\n",
       "      <th>Lng</th>\n",
       "    </tr>\n",
       "  </thead>\n",
       "  <tbody>\n",
       "    <tr>\n",
       "      <th>0</th>\n",
       "      <td>AL</td>\n",
       "      <td>16</td>\n",
       "      <td>32.3182</td>\n",
       "      <td>-86.9023</td>\n",
       "    </tr>\n",
       "    <tr>\n",
       "      <th>1</th>\n",
       "      <td>AR</td>\n",
       "      <td>27</td>\n",
       "      <td>36.1482</td>\n",
       "      <td>-95.9725</td>\n",
       "    </tr>\n",
       "    <tr>\n",
       "      <th>2</th>\n",
       "      <td>AZ</td>\n",
       "      <td>48</td>\n",
       "      <td>34.0489</td>\n",
       "      <td>-111.094</td>\n",
       "    </tr>\n",
       "    <tr>\n",
       "      <th>3</th>\n",
       "      <td>CA</td>\n",
       "      <td>1321</td>\n",
       "      <td>36.7783</td>\n",
       "      <td>-119.418</td>\n",
       "    </tr>\n",
       "    <tr>\n",
       "      <th>4</th>\n",
       "      <td>CO</td>\n",
       "      <td>104</td>\n",
       "      <td></td>\n",
       "      <td></td>\n",
       "    </tr>\n",
       "    <tr>\n",
       "      <th>5</th>\n",
       "      <td>CT</td>\n",
       "      <td>73</td>\n",
       "      <td>41.6032</td>\n",
       "      <td>-73.0877</td>\n",
       "    </tr>\n",
       "    <tr>\n",
       "      <th>6</th>\n",
       "      <td>DC</td>\n",
       "      <td>131</td>\n",
       "      <td>37.0319</td>\n",
       "      <td>-95.6158</td>\n",
       "    </tr>\n",
       "    <tr>\n",
       "      <th>7</th>\n",
       "      <td>DE</td>\n",
       "      <td>16</td>\n",
       "      <td>38.9108</td>\n",
       "      <td>-75.5277</td>\n",
       "    </tr>\n",
       "    <tr>\n",
       "      <th>8</th>\n",
       "      <td>FL</td>\n",
       "      <td>99</td>\n",
       "      <td>27.6648</td>\n",
       "      <td>-81.5158</td>\n",
       "    </tr>\n",
       "    <tr>\n",
       "      <th>9</th>\n",
       "      <td>GA</td>\n",
       "      <td>127</td>\n",
       "      <td>32.1656</td>\n",
       "      <td>-82.9001</td>\n",
       "    </tr>\n",
       "    <tr>\n",
       "      <th>10</th>\n",
       "      <td>HI</td>\n",
       "      <td>6</td>\n",
       "      <td>19.8968</td>\n",
       "      <td>-155.583</td>\n",
       "    </tr>\n",
       "    <tr>\n",
       "      <th>11</th>\n",
       "      <td>IA</td>\n",
       "      <td>30</td>\n",
       "      <td>41.878</td>\n",
       "      <td>-93.0977</td>\n",
       "    </tr>\n",
       "    <tr>\n",
       "      <th>12</th>\n",
       "      <td>ID</td>\n",
       "      <td>6</td>\n",
       "      <td>44.0682</td>\n",
       "      <td>-114.742</td>\n",
       "    </tr>\n",
       "    <tr>\n",
       "      <th>13</th>\n",
       "      <td>IL</td>\n",
       "      <td>228</td>\n",
       "      <td>40.6331</td>\n",
       "      <td>-89.3985</td>\n",
       "    </tr>\n",
       "    <tr>\n",
       "      <th>14</th>\n",
       "      <td>IN</td>\n",
       "      <td>42</td>\n",
       "      <td>40.2672</td>\n",
       "      <td>-86.1349</td>\n",
       "    </tr>\n",
       "    <tr>\n",
       "      <th>15</th>\n",
       "      <td>KS</td>\n",
       "      <td>9</td>\n",
       "      <td>39.0119</td>\n",
       "      <td>-98.4842</td>\n",
       "    </tr>\n",
       "    <tr>\n",
       "      <th>16</th>\n",
       "      <td>KY</td>\n",
       "      <td>12</td>\n",
       "      <td>37.8393</td>\n",
       "      <td>-84.27</td>\n",
       "    </tr>\n",
       "    <tr>\n",
       "      <th>17</th>\n",
       "      <td>LA</td>\n",
       "      <td>6</td>\n",
       "      <td>34.0522</td>\n",
       "      <td>-118.244</td>\n",
       "    </tr>\n",
       "    <tr>\n",
       "      <th>18</th>\n",
       "      <td>MA</td>\n",
       "      <td>245</td>\n",
       "      <td>42.4072</td>\n",
       "      <td>-71.3824</td>\n",
       "    </tr>\n",
       "    <tr>\n",
       "      <th>19</th>\n",
       "      <td>MD</td>\n",
       "      <td>163</td>\n",
       "      <td>39.0458</td>\n",
       "      <td>-76.6413</td>\n",
       "    </tr>\n",
       "    <tr>\n",
       "      <th>20</th>\n",
       "      <td>ME</td>\n",
       "      <td>13</td>\n",
       "      <td>37.223</td>\n",
       "      <td>-95.7078</td>\n",
       "    </tr>\n",
       "    <tr>\n",
       "      <th>21</th>\n",
       "      <td>MI</td>\n",
       "      <td>81</td>\n",
       "      <td>37.1657</td>\n",
       "      <td>-95.1072</td>\n",
       "    </tr>\n",
       "    <tr>\n",
       "      <th>22</th>\n",
       "      <td>MN</td>\n",
       "      <td>62</td>\n",
       "      <td>46.7296</td>\n",
       "      <td>-94.6859</td>\n",
       "    </tr>\n",
       "    <tr>\n",
       "      <th>23</th>\n",
       "      <td>MO</td>\n",
       "      <td>74</td>\n",
       "      <td>37.9643</td>\n",
       "      <td>-91.8318</td>\n",
       "    </tr>\n",
       "    <tr>\n",
       "      <th>24</th>\n",
       "      <td>MT</td>\n",
       "      <td>1</td>\n",
       "      <td>46.8797</td>\n",
       "      <td>-110.363</td>\n",
       "    </tr>\n",
       "    <tr>\n",
       "      <th>25</th>\n",
       "      <td>NC</td>\n",
       "      <td>130</td>\n",
       "      <td>35.7596</td>\n",
       "      <td>-79.0193</td>\n",
       "    </tr>\n",
       "    <tr>\n",
       "      <th>26</th>\n",
       "      <td>ND</td>\n",
       "      <td>1</td>\n",
       "      <td>47.5515</td>\n",
       "      <td>-101.002</td>\n",
       "    </tr>\n",
       "    <tr>\n",
       "      <th>27</th>\n",
       "      <td>NE</td>\n",
       "      <td>10</td>\n",
       "      <td>41.4925</td>\n",
       "      <td>-99.9018</td>\n",
       "    </tr>\n",
       "    <tr>\n",
       "      <th>28</th>\n",
       "      <td>NH</td>\n",
       "      <td>7</td>\n",
       "      <td>43.1939</td>\n",
       "      <td>-71.5724</td>\n",
       "    </tr>\n",
       "    <tr>\n",
       "      <th>29</th>\n",
       "      <td>NJ</td>\n",
       "      <td>121</td>\n",
       "      <td>40.0583</td>\n",
       "      <td>-74.4057</td>\n",
       "    </tr>\n",
       "    <tr>\n",
       "      <th>30</th>\n",
       "      <td>NM</td>\n",
       "      <td>4</td>\n",
       "      <td>34.5199</td>\n",
       "      <td>-105.87</td>\n",
       "    </tr>\n",
       "    <tr>\n",
       "      <th>31</th>\n",
       "      <td>NV</td>\n",
       "      <td>17</td>\n",
       "      <td>38.8026</td>\n",
       "      <td>-116.419</td>\n",
       "    </tr>\n",
       "    <tr>\n",
       "      <th>32</th>\n",
       "      <td>NY</td>\n",
       "      <td>574</td>\n",
       "      <td>40.7128</td>\n",
       "      <td>-74.006</td>\n",
       "    </tr>\n",
       "    <tr>\n",
       "      <th>33</th>\n",
       "      <td>OH</td>\n",
       "      <td>99</td>\n",
       "      <td>40.4173</td>\n",
       "      <td>-82.9071</td>\n",
       "    </tr>\n",
       "    <tr>\n",
       "      <th>34</th>\n",
       "      <td>OK</td>\n",
       "      <td>4</td>\n",
       "      <td>35.0078</td>\n",
       "      <td>-97.0929</td>\n",
       "    </tr>\n",
       "    <tr>\n",
       "      <th>35</th>\n",
       "      <td>OR</td>\n",
       "      <td>56</td>\n",
       "      <td>37.2242</td>\n",
       "      <td>-95.7083</td>\n",
       "    </tr>\n",
       "    <tr>\n",
       "      <th>36</th>\n",
       "      <td>PA</td>\n",
       "      <td>130</td>\n",
       "      <td>41.2033</td>\n",
       "      <td>-77.1945</td>\n",
       "    </tr>\n",
       "    <tr>\n",
       "      <th>38</th>\n",
       "      <td>RI</td>\n",
       "      <td>7</td>\n",
       "      <td>41.5801</td>\n",
       "      <td>-71.4774</td>\n",
       "    </tr>\n",
       "    <tr>\n",
       "      <th>39</th>\n",
       "      <td>SC</td>\n",
       "      <td>23</td>\n",
       "      <td>33.8361</td>\n",
       "      <td>-81.1637</td>\n",
       "    </tr>\n",
       "    <tr>\n",
       "      <th>40</th>\n",
       "      <td>SD</td>\n",
       "      <td>1</td>\n",
       "      <td>43.9695</td>\n",
       "      <td>-99.9018</td>\n",
       "    </tr>\n",
       "    <tr>\n",
       "      <th>41</th>\n",
       "      <td>TN</td>\n",
       "      <td>43</td>\n",
       "      <td>35.5175</td>\n",
       "      <td>-86.5804</td>\n",
       "    </tr>\n",
       "    <tr>\n",
       "      <th>42</th>\n",
       "      <td>TX</td>\n",
       "      <td>312</td>\n",
       "      <td>31.9686</td>\n",
       "      <td>-99.9018</td>\n",
       "    </tr>\n",
       "    <tr>\n",
       "      <th>44</th>\n",
       "      <td>UT</td>\n",
       "      <td>34</td>\n",
       "      <td>35.9544</td>\n",
       "      <td>-83.9295</td>\n",
       "    </tr>\n",
       "    <tr>\n",
       "      <th>45</th>\n",
       "      <td>VA</td>\n",
       "      <td>323</td>\n",
       "      <td>37.3665</td>\n",
       "      <td>-95.2645</td>\n",
       "    </tr>\n",
       "    <tr>\n",
       "      <th>46</th>\n",
       "      <td>VT</td>\n",
       "      <td>2</td>\n",
       "      <td>44.5588</td>\n",
       "      <td>-72.5778</td>\n",
       "    </tr>\n",
       "    <tr>\n",
       "      <th>47</th>\n",
       "      <td>WA</td>\n",
       "      <td>207</td>\n",
       "      <td>47.7511</td>\n",
       "      <td>-120.74</td>\n",
       "    </tr>\n",
       "    <tr>\n",
       "      <th>48</th>\n",
       "      <td>WI</td>\n",
       "      <td>37</td>\n",
       "      <td>43.7844</td>\n",
       "      <td>-88.7879</td>\n",
       "    </tr>\n",
       "    <tr>\n",
       "      <th>49</th>\n",
       "      <td>WV</td>\n",
       "      <td>3</td>\n",
       "      <td>38.5976</td>\n",
       "      <td>-80.4549</td>\n",
       "    </tr>\n",
       "    <tr>\n",
       "      <th>50</th>\n",
       "      <td>WY</td>\n",
       "      <td>2</td>\n",
       "      <td>43.076</td>\n",
       "      <td>-107.29</td>\n",
       "    </tr>\n",
       "  </tbody>\n",
       "</table>\n",
       "</div>"
      ],
      "text/plain": [
       "   Location  Company      Lat      Lng\n",
       "0        AL       16  32.3182 -86.9023\n",
       "1        AR       27  36.1482 -95.9725\n",
       "2        AZ       48  34.0489 -111.094\n",
       "3        CA     1321  36.7783 -119.418\n",
       "4        CO      104                  \n",
       "5        CT       73  41.6032 -73.0877\n",
       "6        DC      131  37.0319 -95.6158\n",
       "7        DE       16  38.9108 -75.5277\n",
       "8        FL       99  27.6648 -81.5158\n",
       "9        GA      127  32.1656 -82.9001\n",
       "10       HI        6  19.8968 -155.583\n",
       "11       IA       30   41.878 -93.0977\n",
       "12       ID        6  44.0682 -114.742\n",
       "13       IL      228  40.6331 -89.3985\n",
       "14       IN       42  40.2672 -86.1349\n",
       "15       KS        9  39.0119 -98.4842\n",
       "16       KY       12  37.8393   -84.27\n",
       "17       LA        6  34.0522 -118.244\n",
       "18       MA      245  42.4072 -71.3824\n",
       "19       MD      163  39.0458 -76.6413\n",
       "20       ME       13   37.223 -95.7078\n",
       "21       MI       81  37.1657 -95.1072\n",
       "22       MN       62  46.7296 -94.6859\n",
       "23       MO       74  37.9643 -91.8318\n",
       "24       MT        1  46.8797 -110.363\n",
       "25       NC      130  35.7596 -79.0193\n",
       "26       ND        1  47.5515 -101.002\n",
       "27       NE       10  41.4925 -99.9018\n",
       "28       NH        7  43.1939 -71.5724\n",
       "29       NJ      121  40.0583 -74.4057\n",
       "30       NM        4  34.5199  -105.87\n",
       "31       NV       17  38.8026 -116.419\n",
       "32       NY      574  40.7128  -74.006\n",
       "33       OH       99  40.4173 -82.9071\n",
       "34       OK        4  35.0078 -97.0929\n",
       "35       OR       56  37.2242 -95.7083\n",
       "36       PA      130  41.2033 -77.1945\n",
       "38       RI        7  41.5801 -71.4774\n",
       "39       SC       23  33.8361 -81.1637\n",
       "40       SD        1  43.9695 -99.9018\n",
       "41       TN       43  35.5175 -86.5804\n",
       "42       TX      312  31.9686 -99.9018\n",
       "44       UT       34  35.9544 -83.9295\n",
       "45       VA      323  37.3665 -95.2645\n",
       "46       VT        2  44.5588 -72.5778\n",
       "47       WA      207  47.7511  -120.74\n",
       "48       WI       37  43.7844 -88.7879\n",
       "49       WV        3  38.5976 -80.4549\n",
       "50       WY        2   43.076  -107.29"
      ]
     },
     "execution_count": 37,
     "metadata": {},
     "output_type": "execute_result"
    }
   ],
   "source": [
    "state_bylocation"
   ]
  },
  {
   "cell_type": "code",
   "execution_count": 40,
   "metadata": {},
   "outputs": [
    {
     "ename": "NameError",
     "evalue": "name 'data_2' is not defined",
     "output_type": "error",
     "traceback": [
      "\u001b[0;31m---------------------------------------------------------------------------\u001b[0m",
      "\u001b[0;31mNameError\u001b[0m                                 Traceback (most recent call last)",
      "\u001b[0;32m<ipython-input-40-8b25de03d227>\u001b[0m in \u001b[0;36m<module>\u001b[0;34m\u001b[0m\n\u001b[0;32m----> 1\u001b[0;31m \u001b[0mstate_bylocation\u001b[0m\u001b[0;34m[\u001b[0m\u001b[0;34m'coordinates'\u001b[0m\u001b[0;34m]\u001b[0m \u001b[0;34m=\u001b[0m \u001b[0mlist\u001b[0m\u001b[0;34m(\u001b[0m\u001b[0mzip\u001b[0m\u001b[0;34m(\u001b[0m\u001b[0mdata_2\u001b[0m\u001b[0;34m.\u001b[0m\u001b[0mLat\u001b[0m\u001b[0;34m,\u001b[0m\u001b[0mdata_2\u001b[0m\u001b[0;34m.\u001b[0m\u001b[0mLng\u001b[0m\u001b[0;34m)\u001b[0m\u001b[0;34m)\u001b[0m\u001b[0;34m\u001b[0m\u001b[0;34m\u001b[0m\u001b[0m\n\u001b[0m\u001b[1;32m      2\u001b[0m \u001b[0;34m\u001b[0m\u001b[0m\n",
      "\u001b[0;31mNameError\u001b[0m: name 'data_2' is not defined"
     ]
    }
   ],
   "source": [
    "state_bylocation['coordinates'] = list(zip(state_bylocat.Lat,data_2.Lng))\n",
    "\n"
   ]
  },
  {
   "cell_type": "code",
   "execution_count": 38,
   "metadata": {},
   "outputs": [],
   "source": [
    "state_bylocation.to_json(\"state_bylocation\")"
   ]
  },
  {
   "cell_type": "code",
   "execution_count": 39,
   "metadata": {},
   "outputs": [
    {
     "data": {
      "text/plain": [
       "'[{\"index\":0,\"Location\":\"AL\",\"Company\":16,\"Lat\":32.3182314,\"Lng\":-86.902298},{\"index\":1,\"Location\":\"AR\",\"Company\":27,\"Lat\":36.1481727,\"Lng\":-95.9725076},{\"index\":2,\"Location\":\"AZ\",\"Company\":48,\"Lat\":34.0489281,\"Lng\":-111.0937311},{\"index\":3,\"Location\":\"CA\",\"Company\":1321,\"Lat\":36.778261,\"Lng\":-119.4179324},{\"index\":4,\"Location\":\"CO\",\"Company\":104,\"Lat\":\" \",\"Lng\":\" \"},{\"index\":5,\"Location\":\"CT\",\"Company\":73,\"Lat\":41.6032207,\"Lng\":-73.087749},{\"index\":6,\"Location\":\"DC\",\"Company\":131,\"Lat\":37.031914,\"Lng\":-95.615845},{\"index\":7,\"Location\":\"DE\",\"Company\":16,\"Lat\":38.9108325,\"Lng\":-75.5276699},{\"index\":8,\"Location\":\"FL\",\"Company\":99,\"Lat\":27.6648274,\"Lng\":-81.5157535},{\"index\":9,\"Location\":\"GA\",\"Company\":127,\"Lat\":32.1656221,\"Lng\":-82.9000751},{\"index\":10,\"Location\":\"HI\",\"Company\":6,\"Lat\":19.8967662,\"Lng\":-155.5827818},{\"index\":11,\"Location\":\"IA\",\"Company\":30,\"Lat\":41.8780025,\"Lng\":-93.097702},{\"index\":12,\"Location\":\"ID\",\"Company\":6,\"Lat\":44.0682019,\"Lng\":-114.7420408},{\"index\":13,\"Location\":\"IL\",\"Company\":228,\"Lat\":40.6331249,\"Lng\":-89.3985283},{\"index\":14,\"Location\":\"IN\",\"Company\":42,\"Lat\":40.2671941,\"Lng\":-86.1349019},{\"index\":15,\"Location\":\"KS\",\"Company\":9,\"Lat\":39.011902,\"Lng\":-98.4842465},{\"index\":16,\"Location\":\"KY\",\"Company\":12,\"Lat\":37.8393332,\"Lng\":-84.2700179},{\"index\":17,\"Location\":\"LA\",\"Company\":6,\"Lat\":34.0522342,\"Lng\":-118.2436849},{\"index\":18,\"Location\":\"MA\",\"Company\":245,\"Lat\":42.4072107,\"Lng\":-71.3824374},{\"index\":19,\"Location\":\"MD\",\"Company\":163,\"Lat\":39.0457549,\"Lng\":-76.6412712},{\"index\":20,\"Location\":\"ME\",\"Company\":13,\"Lat\":37.2229608,\"Lng\":-95.7078139},{\"index\":21,\"Location\":\"MI\",\"Company\":81,\"Lat\":37.1656678,\"Lng\":-95.1071898},{\"index\":22,\"Location\":\"MN\",\"Company\":62,\"Lat\":46.729553,\"Lng\":-94.6858998},{\"index\":23,\"Location\":\"MO\",\"Company\":74,\"Lat\":37.9642529,\"Lng\":-91.8318334},{\"index\":24,\"Location\":\"MT\",\"Company\":1,\"Lat\":46.8796822,\"Lng\":-110.3625658},{\"index\":25,\"Location\":\"NC\",\"Company\":130,\"Lat\":35.7595731,\"Lng\":-79.0192997},{\"index\":26,\"Location\":\"ND\",\"Company\":1,\"Lat\":47.5514926,\"Lng\":-101.0020119},{\"index\":27,\"Location\":\"NE\",\"Company\":10,\"Lat\":41.4925374,\"Lng\":-99.9018131},{\"index\":28,\"Location\":\"NH\",\"Company\":7,\"Lat\":43.1938516,\"Lng\":-71.5723953},{\"index\":29,\"Location\":\"NJ\",\"Company\":121,\"Lat\":40.0583238,\"Lng\":-74.4056612},{\"index\":30,\"Location\":\"NM\",\"Company\":4,\"Lat\":34.5199402,\"Lng\":-105.8700901},{\"index\":31,\"Location\":\"NV\",\"Company\":17,\"Lat\":38.8026097,\"Lng\":-116.419389},{\"index\":32,\"Location\":\"NY\",\"Company\":574,\"Lat\":40.7127753,\"Lng\":-74.0059728},{\"index\":33,\"Location\":\"OH\",\"Company\":99,\"Lat\":40.4172871,\"Lng\":-82.907123},{\"index\":34,\"Location\":\"OK\",\"Company\":4,\"Lat\":35.0077519,\"Lng\":-97.092877},{\"index\":35,\"Location\":\"OR\",\"Company\":56,\"Lat\":37.2242358,\"Lng\":-95.7083131},{\"index\":36,\"Location\":\"PA\",\"Company\":130,\"Lat\":41.2033216,\"Lng\":-77.1945247},{\"index\":38,\"Location\":\"RI\",\"Company\":7,\"Lat\":41.5800945,\"Lng\":-71.4774291},{\"index\":39,\"Location\":\"SC\",\"Company\":23,\"Lat\":33.836081,\"Lng\":-81.1637245},{\"index\":40,\"Location\":\"SD\",\"Company\":1,\"Lat\":43.9695148,\"Lng\":-99.9018131},{\"index\":41,\"Location\":\"TN\",\"Company\":43,\"Lat\":35.5174913,\"Lng\":-86.5804473},{\"index\":42,\"Location\":\"TX\",\"Company\":312,\"Lat\":31.9685988,\"Lng\":-99.9018131},{\"index\":44,\"Location\":\"UT\",\"Company\":34,\"Lat\":35.9544013,\"Lng\":-83.9294564},{\"index\":45,\"Location\":\"VA\",\"Company\":323,\"Lat\":37.3664814,\"Lng\":-95.2644709},{\"index\":46,\"Location\":\"VT\",\"Company\":2,\"Lat\":44.5588028,\"Lng\":-72.5778415},{\"index\":47,\"Location\":\"WA\",\"Company\":207,\"Lat\":47.7510741,\"Lng\":-120.7401385},{\"index\":48,\"Location\":\"WI\",\"Company\":37,\"Lat\":43.7844397,\"Lng\":-88.7878678},{\"index\":49,\"Location\":\"WV\",\"Company\":3,\"Lat\":38.5976262,\"Lng\":-80.4549026},{\"index\":50,\"Location\":\"WY\",\"Company\":2,\"Lat\":43.0759678,\"Lng\":-107.2902839}]'"
      ]
     },
     "execution_count": 39,
     "metadata": {},
     "output_type": "execute_result"
    }
   ],
   "source": [
    "result=state_bylocation.reset_index().to_json(orient=\"records\")\n",
    "result"
   ]
  },
  {
   "cell_type": "code",
   "execution_count": 36,
   "metadata": {
    "scrolled": false
   },
   "outputs": [
    {
     "ename": "TraitError",
     "evalue": "  is not a valid latitude. Latitudes must be floats",
     "output_type": "error",
     "traceback": [
      "\u001b[0;31m---------------------------------------------------------------------------\u001b[0m",
      "\u001b[0;31mValueError\u001b[0m                                Traceback (most recent call last)",
      "\u001b[0;32m~/opt/anaconda3/lib/python3.7/site-packages/gmaps/geotraitlets.py\u001b[0m in \u001b[0;36m_validate_latitude\u001b[0;34m(latitude)\u001b[0m\n\u001b[1;32m    298\u001b[0m     \u001b[0;32mtry\u001b[0m\u001b[0;34m:\u001b[0m\u001b[0;34m\u001b[0m\u001b[0;34m\u001b[0m\u001b[0m\n\u001b[0;32m--> 299\u001b[0;31m         \u001b[0mlatitude\u001b[0m \u001b[0;34m=\u001b[0m \u001b[0mfloat\u001b[0m\u001b[0;34m(\u001b[0m\u001b[0mlatitude\u001b[0m\u001b[0;34m)\u001b[0m\u001b[0;34m\u001b[0m\u001b[0;34m\u001b[0m\u001b[0m\n\u001b[0m\u001b[1;32m    300\u001b[0m     \u001b[0;32mexcept\u001b[0m \u001b[0;34m(\u001b[0m\u001b[0mTypeError\u001b[0m\u001b[0;34m,\u001b[0m \u001b[0mValueError\u001b[0m\u001b[0;34m)\u001b[0m\u001b[0;34m:\u001b[0m\u001b[0;34m\u001b[0m\u001b[0;34m\u001b[0m\u001b[0m\n",
      "\u001b[0;31mValueError\u001b[0m: could not convert string to float: ",
      "\nDuring handling of the above exception, another exception occurred:\n",
      "\u001b[0;31mTraitError\u001b[0m                                Traceback (most recent call last)",
      "\u001b[0;32m<ipython-input-36-4ca34775eef0>\u001b[0m in \u001b[0;36m<module>\u001b[0;34m\u001b[0m\n\u001b[1;32m      5\u001b[0m heat_layer = gmaps.heatmap_layer(locations, weights=state_bylocation['Company'], \n\u001b[1;32m      6\u001b[0m                                  \u001b[0mdissipating\u001b[0m\u001b[0;34m=\u001b[0m\u001b[0;32mFalse\u001b[0m\u001b[0;34m,\u001b[0m \u001b[0mmax_intensity\u001b[0m\u001b[0;34m=\u001b[0m\u001b[0;36m100\u001b[0m\u001b[0;34m,\u001b[0m\u001b[0;34m\u001b[0m\u001b[0;34m\u001b[0m\u001b[0m\n\u001b[0;32m----> 7\u001b[0;31m                                  point_radius = 1)\n\u001b[0m\u001b[1;32m      8\u001b[0m \u001b[0mfig\u001b[0m\u001b[0;34m.\u001b[0m\u001b[0madd_layer\u001b[0m\u001b[0;34m(\u001b[0m\u001b[0mheat_layer\u001b[0m\u001b[0;34m)\u001b[0m\u001b[0;34m\u001b[0m\u001b[0;34m\u001b[0m\u001b[0m\n\u001b[1;32m      9\u001b[0m \u001b[0;31m## State Label Marker\u001b[0m\u001b[0;34m\u001b[0m\u001b[0;34m\u001b[0m\u001b[0;34m\u001b[0m\u001b[0m\n",
      "\u001b[0;32m~/opt/anaconda3/lib/python3.7/site-packages/gmaps/heatmap.py\u001b[0m in \u001b[0;36mheatmap_layer\u001b[0;34m(locations, weights, max_intensity, dissipating, point_radius, opacity, gradient)\u001b[0m\n\u001b[1;32m    267\u001b[0m     )\n\u001b[1;32m    268\u001b[0m     \u001b[0;32mif\u001b[0m \u001b[0mis_weighted\u001b[0m\u001b[0;34m:\u001b[0m\u001b[0;34m\u001b[0m\u001b[0;34m\u001b[0m\u001b[0m\n\u001b[0;32m--> 269\u001b[0;31m         \u001b[0;32mreturn\u001b[0m \u001b[0mWeightedHeatmap\u001b[0m\u001b[0;34m(\u001b[0m\u001b[0;34m**\u001b[0m\u001b[0mwidget_args\u001b[0m\u001b[0;34m)\u001b[0m\u001b[0;34m\u001b[0m\u001b[0;34m\u001b[0m\u001b[0m\n\u001b[0m\u001b[1;32m    270\u001b[0m     \u001b[0;32melse\u001b[0m\u001b[0;34m:\u001b[0m\u001b[0;34m\u001b[0m\u001b[0;34m\u001b[0m\u001b[0m\n\u001b[1;32m    271\u001b[0m         \u001b[0;32mreturn\u001b[0m \u001b[0mHeatmap\u001b[0m\u001b[0;34m(\u001b[0m\u001b[0;34m**\u001b[0m\u001b[0mwidget_args\u001b[0m\u001b[0;34m)\u001b[0m\u001b[0;34m\u001b[0m\u001b[0;34m\u001b[0m\u001b[0m\n",
      "\u001b[0;32m~/opt/anaconda3/lib/python3.7/site-packages/ipywidgets/widgets/widget.py\u001b[0m in \u001b[0;36m__init__\u001b[0;34m(self, **kwargs)\u001b[0m\n\u001b[1;32m    410\u001b[0m         \u001b[0;34m\"\"\"Public constructor\"\"\"\u001b[0m\u001b[0;34m\u001b[0m\u001b[0;34m\u001b[0m\u001b[0m\n\u001b[1;32m    411\u001b[0m         \u001b[0mself\u001b[0m\u001b[0;34m.\u001b[0m\u001b[0m_model_id\u001b[0m \u001b[0;34m=\u001b[0m \u001b[0mkwargs\u001b[0m\u001b[0;34m.\u001b[0m\u001b[0mpop\u001b[0m\u001b[0;34m(\u001b[0m\u001b[0;34m'model_id'\u001b[0m\u001b[0;34m,\u001b[0m \u001b[0;32mNone\u001b[0m\u001b[0;34m)\u001b[0m\u001b[0;34m\u001b[0m\u001b[0;34m\u001b[0m\u001b[0m\n\u001b[0;32m--> 412\u001b[0;31m         \u001b[0msuper\u001b[0m\u001b[0;34m(\u001b[0m\u001b[0mWidget\u001b[0m\u001b[0;34m,\u001b[0m \u001b[0mself\u001b[0m\u001b[0;34m)\u001b[0m\u001b[0;34m.\u001b[0m\u001b[0m__init__\u001b[0m\u001b[0;34m(\u001b[0m\u001b[0;34m**\u001b[0m\u001b[0mkwargs\u001b[0m\u001b[0;34m)\u001b[0m\u001b[0;34m\u001b[0m\u001b[0;34m\u001b[0m\u001b[0m\n\u001b[0m\u001b[1;32m    413\u001b[0m \u001b[0;34m\u001b[0m\u001b[0m\n\u001b[1;32m    414\u001b[0m         \u001b[0mWidget\u001b[0m\u001b[0;34m.\u001b[0m\u001b[0m_call_widget_constructed\u001b[0m\u001b[0;34m(\u001b[0m\u001b[0mself\u001b[0m\u001b[0;34m)\u001b[0m\u001b[0;34m\u001b[0m\u001b[0;34m\u001b[0m\u001b[0m\n",
      "\u001b[0;32m~/opt/anaconda3/lib/python3.7/site-packages/traitlets/traitlets.py\u001b[0m in \u001b[0;36m__init__\u001b[0;34m(self, *args, **kwargs)\u001b[0m\n\u001b[1;32m    995\u001b[0m             \u001b[0;32mfor\u001b[0m \u001b[0mkey\u001b[0m\u001b[0;34m,\u001b[0m \u001b[0mvalue\u001b[0m \u001b[0;32min\u001b[0m \u001b[0mkwargs\u001b[0m\u001b[0;34m.\u001b[0m\u001b[0mitems\u001b[0m\u001b[0;34m(\u001b[0m\u001b[0;34m)\u001b[0m\u001b[0;34m:\u001b[0m\u001b[0;34m\u001b[0m\u001b[0;34m\u001b[0m\u001b[0m\n\u001b[1;32m    996\u001b[0m                 \u001b[0;32mif\u001b[0m \u001b[0mself\u001b[0m\u001b[0;34m.\u001b[0m\u001b[0mhas_trait\u001b[0m\u001b[0;34m(\u001b[0m\u001b[0mkey\u001b[0m\u001b[0;34m)\u001b[0m\u001b[0;34m:\u001b[0m\u001b[0;34m\u001b[0m\u001b[0;34m\u001b[0m\u001b[0m\n\u001b[0;32m--> 997\u001b[0;31m                     \u001b[0msetattr\u001b[0m\u001b[0;34m(\u001b[0m\u001b[0mself\u001b[0m\u001b[0;34m,\u001b[0m \u001b[0mkey\u001b[0m\u001b[0;34m,\u001b[0m \u001b[0mvalue\u001b[0m\u001b[0;34m)\u001b[0m\u001b[0;34m\u001b[0m\u001b[0;34m\u001b[0m\u001b[0m\n\u001b[0m\u001b[1;32m    998\u001b[0m                 \u001b[0;32melse\u001b[0m\u001b[0;34m:\u001b[0m\u001b[0;34m\u001b[0m\u001b[0;34m\u001b[0m\u001b[0m\n\u001b[1;32m    999\u001b[0m                     \u001b[0;31m# passthrough args that don't set traits to super\u001b[0m\u001b[0;34m\u001b[0m\u001b[0;34m\u001b[0m\u001b[0;34m\u001b[0m\u001b[0m\n",
      "\u001b[0;32m~/opt/anaconda3/lib/python3.7/site-packages/traitlets/traitlets.py\u001b[0m in \u001b[0;36m__set__\u001b[0;34m(self, obj, value)\u001b[0m\n\u001b[1;32m    583\u001b[0m             \u001b[0;32mraise\u001b[0m \u001b[0mTraitError\u001b[0m\u001b[0;34m(\u001b[0m\u001b[0;34m'The \"%s\" trait is read-only.'\u001b[0m \u001b[0;34m%\u001b[0m \u001b[0mself\u001b[0m\u001b[0;34m.\u001b[0m\u001b[0mname\u001b[0m\u001b[0;34m)\u001b[0m\u001b[0;34m\u001b[0m\u001b[0;34m\u001b[0m\u001b[0m\n\u001b[1;32m    584\u001b[0m         \u001b[0;32melse\u001b[0m\u001b[0;34m:\u001b[0m\u001b[0;34m\u001b[0m\u001b[0;34m\u001b[0m\u001b[0m\n\u001b[0;32m--> 585\u001b[0;31m             \u001b[0mself\u001b[0m\u001b[0;34m.\u001b[0m\u001b[0mset\u001b[0m\u001b[0;34m(\u001b[0m\u001b[0mobj\u001b[0m\u001b[0;34m,\u001b[0m \u001b[0mvalue\u001b[0m\u001b[0;34m)\u001b[0m\u001b[0;34m\u001b[0m\u001b[0;34m\u001b[0m\u001b[0m\n\u001b[0m\u001b[1;32m    586\u001b[0m \u001b[0;34m\u001b[0m\u001b[0m\n\u001b[1;32m    587\u001b[0m     \u001b[0;32mdef\u001b[0m \u001b[0m_validate\u001b[0m\u001b[0;34m(\u001b[0m\u001b[0mself\u001b[0m\u001b[0;34m,\u001b[0m \u001b[0mobj\u001b[0m\u001b[0;34m,\u001b[0m \u001b[0mvalue\u001b[0m\u001b[0;34m)\u001b[0m\u001b[0;34m:\u001b[0m\u001b[0;34m\u001b[0m\u001b[0;34m\u001b[0m\u001b[0m\n",
      "\u001b[0;32m~/opt/anaconda3/lib/python3.7/site-packages/traitlets/traitlets.py\u001b[0m in \u001b[0;36mset\u001b[0;34m(self, obj, value)\u001b[0m\n\u001b[1;32m    557\u001b[0m \u001b[0;34m\u001b[0m\u001b[0m\n\u001b[1;32m    558\u001b[0m     \u001b[0;32mdef\u001b[0m \u001b[0mset\u001b[0m\u001b[0;34m(\u001b[0m\u001b[0mself\u001b[0m\u001b[0;34m,\u001b[0m \u001b[0mobj\u001b[0m\u001b[0;34m,\u001b[0m \u001b[0mvalue\u001b[0m\u001b[0;34m)\u001b[0m\u001b[0;34m:\u001b[0m\u001b[0;34m\u001b[0m\u001b[0;34m\u001b[0m\u001b[0m\n\u001b[0;32m--> 559\u001b[0;31m         \u001b[0mnew_value\u001b[0m \u001b[0;34m=\u001b[0m \u001b[0mself\u001b[0m\u001b[0;34m.\u001b[0m\u001b[0m_validate\u001b[0m\u001b[0;34m(\u001b[0m\u001b[0mobj\u001b[0m\u001b[0;34m,\u001b[0m \u001b[0mvalue\u001b[0m\u001b[0;34m)\u001b[0m\u001b[0;34m\u001b[0m\u001b[0;34m\u001b[0m\u001b[0m\n\u001b[0m\u001b[1;32m    560\u001b[0m         \u001b[0;32mtry\u001b[0m\u001b[0;34m:\u001b[0m\u001b[0;34m\u001b[0m\u001b[0;34m\u001b[0m\u001b[0m\n\u001b[1;32m    561\u001b[0m             \u001b[0mold_value\u001b[0m \u001b[0;34m=\u001b[0m \u001b[0mobj\u001b[0m\u001b[0;34m.\u001b[0m\u001b[0m_trait_values\u001b[0m\u001b[0;34m[\u001b[0m\u001b[0mself\u001b[0m\u001b[0;34m.\u001b[0m\u001b[0mname\u001b[0m\u001b[0;34m]\u001b[0m\u001b[0;34m\u001b[0m\u001b[0;34m\u001b[0m\u001b[0m\n",
      "\u001b[0;32m~/opt/anaconda3/lib/python3.7/site-packages/traitlets/traitlets.py\u001b[0m in \u001b[0;36m_validate\u001b[0;34m(self, obj, value)\u001b[0m\n\u001b[1;32m    589\u001b[0m             \u001b[0;32mreturn\u001b[0m \u001b[0mvalue\u001b[0m\u001b[0;34m\u001b[0m\u001b[0;34m\u001b[0m\u001b[0m\n\u001b[1;32m    590\u001b[0m         \u001b[0;32mif\u001b[0m \u001b[0mhasattr\u001b[0m\u001b[0;34m(\u001b[0m\u001b[0mself\u001b[0m\u001b[0;34m,\u001b[0m \u001b[0;34m'validate'\u001b[0m\u001b[0;34m)\u001b[0m\u001b[0;34m:\u001b[0m\u001b[0;34m\u001b[0m\u001b[0;34m\u001b[0m\u001b[0m\n\u001b[0;32m--> 591\u001b[0;31m             \u001b[0mvalue\u001b[0m \u001b[0;34m=\u001b[0m \u001b[0mself\u001b[0m\u001b[0;34m.\u001b[0m\u001b[0mvalidate\u001b[0m\u001b[0;34m(\u001b[0m\u001b[0mobj\u001b[0m\u001b[0;34m,\u001b[0m \u001b[0mvalue\u001b[0m\u001b[0;34m)\u001b[0m\u001b[0;34m\u001b[0m\u001b[0;34m\u001b[0m\u001b[0m\n\u001b[0m\u001b[1;32m    592\u001b[0m         \u001b[0;32mif\u001b[0m \u001b[0mobj\u001b[0m\u001b[0;34m.\u001b[0m\u001b[0m_cross_validation_lock\u001b[0m \u001b[0;32mis\u001b[0m \u001b[0;32mFalse\u001b[0m\u001b[0;34m:\u001b[0m\u001b[0;34m\u001b[0m\u001b[0;34m\u001b[0m\u001b[0m\n\u001b[1;32m    593\u001b[0m             \u001b[0mvalue\u001b[0m \u001b[0;34m=\u001b[0m \u001b[0mself\u001b[0m\u001b[0;34m.\u001b[0m\u001b[0m_cross_validate\u001b[0m\u001b[0;34m(\u001b[0m\u001b[0mobj\u001b[0m\u001b[0;34m,\u001b[0m \u001b[0mvalue\u001b[0m\u001b[0;34m)\u001b[0m\u001b[0;34m\u001b[0m\u001b[0;34m\u001b[0m\u001b[0m\n",
      "\u001b[0;32m~/opt/anaconda3/lib/python3.7/site-packages/gmaps/geotraitlets.py\u001b[0m in \u001b[0;36mvalidate\u001b[0;34m(self, obj, value)\u001b[0m\n\u001b[1;32m     25\u001b[0m         \u001b[0;32mfor\u001b[0m \u001b[0mlocation\u001b[0m \u001b[0;32min\u001b[0m \u001b[0mlocations_as_list\u001b[0m\u001b[0;34m:\u001b[0m\u001b[0;34m\u001b[0m\u001b[0;34m\u001b[0m\u001b[0m\n\u001b[1;32m     26\u001b[0m             \u001b[0mlatitude\u001b[0m\u001b[0;34m,\u001b[0m \u001b[0mlongitude\u001b[0m \u001b[0;34m=\u001b[0m \u001b[0mlocation\u001b[0m\u001b[0;34m\u001b[0m\u001b[0;34m\u001b[0m\u001b[0m\n\u001b[0;32m---> 27\u001b[0;31m             \u001b[0m_validate_latitude\u001b[0m\u001b[0;34m(\u001b[0m\u001b[0mlatitude\u001b[0m\u001b[0;34m)\u001b[0m\u001b[0;34m\u001b[0m\u001b[0;34m\u001b[0m\u001b[0m\n\u001b[0m\u001b[1;32m     28\u001b[0m             \u001b[0m_validate_longitude\u001b[0m\u001b[0;34m(\u001b[0m\u001b[0mlongitude\u001b[0m\u001b[0;34m)\u001b[0m\u001b[0;34m\u001b[0m\u001b[0;34m\u001b[0m\u001b[0m\n\u001b[1;32m     29\u001b[0m         \u001b[0;32mreturn\u001b[0m \u001b[0msuper\u001b[0m\u001b[0;34m(\u001b[0m\u001b[0mLocationArray\u001b[0m\u001b[0;34m,\u001b[0m \u001b[0mself\u001b[0m\u001b[0;34m)\u001b[0m\u001b[0;34m.\u001b[0m\u001b[0mvalidate\u001b[0m\u001b[0;34m(\u001b[0m\u001b[0mobj\u001b[0m\u001b[0;34m,\u001b[0m \u001b[0mlocations_as_list\u001b[0m\u001b[0;34m)\u001b[0m\u001b[0;34m\u001b[0m\u001b[0;34m\u001b[0m\u001b[0m\n",
      "\u001b[0;32m~/opt/anaconda3/lib/python3.7/site-packages/gmaps/geotraitlets.py\u001b[0m in \u001b[0;36m_validate_latitude\u001b[0;34m(latitude)\u001b[0m\n\u001b[1;32m    301\u001b[0m         raise traitlets.TraitError(\n\u001b[1;32m    302\u001b[0m             \u001b[0;34m'{} is not a valid latitude. '\u001b[0m\u001b[0;34m\u001b[0m\u001b[0;34m\u001b[0m\u001b[0m\n\u001b[0;32m--> 303\u001b[0;31m             \u001b[0;34m'Latitudes must be floats'\u001b[0m\u001b[0;34m.\u001b[0m\u001b[0mformat\u001b[0m\u001b[0;34m(\u001b[0m\u001b[0mlatitude\u001b[0m\u001b[0;34m)\u001b[0m\u001b[0;34m\u001b[0m\u001b[0;34m\u001b[0m\u001b[0m\n\u001b[0m\u001b[1;32m    304\u001b[0m         )\n\u001b[1;32m    305\u001b[0m     \u001b[0;32mif\u001b[0m \u001b[0;32mnot\u001b[0m \u001b[0;34m(\u001b[0m\u001b[0;34m-\u001b[0m\u001b[0;36m90.0\u001b[0m \u001b[0;34m<=\u001b[0m \u001b[0mlatitude\u001b[0m \u001b[0;34m<=\u001b[0m \u001b[0;36m90.0\u001b[0m\u001b[0;34m)\u001b[0m\u001b[0;34m:\u001b[0m\u001b[0;34m\u001b[0m\u001b[0;34m\u001b[0m\u001b[0m\n",
      "\u001b[0;31mTraitError\u001b[0m:   is not a valid latitude. Latitudes must be floats"
     ]
    }
   ],
   "source": [
    "locations=state_bylocation[['Lat','Lng']]\n",
    "\n",
    "fig = gmaps.figure()\n",
    "\n",
    "heat_layer = gmaps.heatmap_layer(locations, weights=state_bylocation['Company'], \n",
    "                                 dissipating=False, max_intensity=100,\n",
    "                                 point_radius = 1)\n",
    "fig.add_layer(heat_layer)\n",
    "## State Label Marker\n",
    "# state_template=\"\"\"<dl><dd>{Location}</dd></dl>\"\"\"\n",
    "# state_info=[state_template.format(**row) for index,row in state_bylocation.iterrows()]\n",
    "# marker_layer=gmaps.marker_layer(locations,info_box_content= state_info)\n",
    "# fig.add_layer(marker_layer)\n",
    "\n",
    "# plt.savefig('../04._Output/company_concentrationmap.png')\n",
    "fig"
   ]
  },
  {
   "cell_type": "markdown",
   "metadata": {},
   "source": [
    "# Highest Pay by State  ( >160000)"
   ]
  },
  {
   "cell_type": "code",
   "execution_count": null,
   "metadata": {},
   "outputs": [],
   "source": [
    "salary_df=pd.DataFrame(df_cleaned.loc[:,['Location',\\\n",
    "                                    'Salary_Index']])\n",
    "\n",
    "salary_df.dropna()\n",
    "\n",
    "salary_df.head()"
   ]
  },
  {
   "cell_type": "code",
   "execution_count": null,
   "metadata": {},
   "outputs": [],
   "source": [
    "#highest pay only\n",
    "high_pay_salary=salary_df[salary_df['Salary_Index']== 6]\n",
    "high_pay_salary.head()"
   ]
  },
  {
   "cell_type": "code",
   "execution_count": null,
   "metadata": {},
   "outputs": [],
   "source": [
    "#all states\n",
    "highpay_jobs_state=high_pay_salary.groupby(['Location'])['Salary_Index'].count()\n",
    "ratio3=highpay_jobs_state/total_postings*100\n",
    "state_df3=pd.DataFrame(ratio3.nlargest(10))\n",
    "\n",
    "\n",
    "\n",
    "#plot bar\n",
    "plot=state_df3.plot(kind='bar', align=\"center\",figsize = (15,7),color='turquoise')\n",
    "plt.title('Job Openings for Highest Pay by State')\n",
    "plt.ylabel('Job Vacancies (Percentage Points)')\n",
    "plt.show()\n",
    "plt.savefig('../04._Output/job_vacancy_highpay_allstates.png')"
   ]
  },
  {
   "cell_type": "code",
   "execution_count": null,
   "metadata": {},
   "outputs": [],
   "source": [
    "#salary index count by state\n",
    "pay_count= high_pay_salary.groupby(['Location'])['Salary_Index'].count()\n",
    "pay_df=pd.DataFrame(pay_count)\n",
    "pay_df.head()"
   ]
  },
  {
   "cell_type": "code",
   "execution_count": null,
   "metadata": {},
   "outputs": [],
   "source": [
    "#add columns for lat and lng\n",
    "pay_df[\"Lat\"] = \"\"\n",
    "pay_df[\"Lng\"] = \"\"\n",
    "pay_df.groupby(['Location'])\n",
    "pay_bylocation=pd.DataFrame(pay_df)\n",
    "\n",
    "pay_bylocation.reset_index(inplace=True)\n",
    "pay_bylocation.head()\n"
   ]
  },
  {
   "cell_type": "code",
   "execution_count": null,
   "metadata": {},
   "outputs": [],
   "source": [
    "params = {\"key\": gkey}\n",
    "# Loop through the location and run a lat/long search for each city\n",
    "for index, row in pay_bylocation.iterrows():\n",
    "    base_url = \"https://maps.googleapis.com/maps/api/geocode/json\"\n",
    "\n",
    "    states = row['Location']\n",
    "    \n",
    "\n",
    "    # update address key value\n",
    "    params['address'] = f\"{states}\"\n",
    "\n",
    "#     # make request\n",
    "    states_lat_lng = requests.get(base_url, params=params)\n",
    "\n",
    "#     # print the cities_lat_lng url, avoid doing for public github repos in order to avoid exposing key\n",
    "#     print(state_lat_lng.url)\n",
    "    \n",
    "# #     # convert to json\n",
    "    states_lat_lng = states_lat_lng.json()\n",
    "#     print(state_lat_lng['results'][0]['geometry']['location'])\n",
    "#     time.sleep(1.00)\n",
    "try:\n",
    "    pay_bylocation.loc[index, \"Lat\"] = states_lat_lng[\"results\"][0]['geometry'][\"location\"][\"lat\"]\n",
    "    pay_bylocation.loc[index,'Lng']= states_lat_lng[\"results\"][0]['geometry'][\"location\"][\"lng\"]\n",
    "#     if index >max_rows and max_rows>0:\n",
    "#         break\n",
    "\n",
    "except (KeyError, IndexError):\n",
    "        print(\"Missing field/result... skipping.\")\n",
    "pay_bylocation.head()"
   ]
  },
  {
   "cell_type": "code",
   "execution_count": null,
   "metadata": {},
   "outputs": [],
   "source": [
    "location=pay_bylocation[['Lat','Lng']]\n",
    "fig = gmaps.figure()\n",
    "\n",
    "heat_layer = gmaps.heatmap_layer(location, weights=pay_bylocation['Salary_Index'], \n",
    "                                 dissipating=False, max_intensity=100,\n",
    "                                 point_radius = 2)\n",
    "fig.add_layer(heat_layer)\n",
    "state_template=\"\"\"<dl><dd>{Location}</dd></dl>\"\"\"\n",
    "pay_info=[state_template.format(**row) for index,row in pay_df.iterrows()]\n",
    "# print(state_info)\n",
    "marker_layer=gmaps.marker_layer(location,info_box_content= pay_info)\n",
    "fig.add_layer(marker_layer)\n",
    "fig\n",
    "plt.savefig('../04._Output/high_pay_concentration_map.png')\n",
    "fig"
   ]
  },
  {
   "cell_type": "markdown",
   "metadata": {},
   "source": []
  },
  {
   "cell_type": "code",
   "execution_count": null,
   "metadata": {},
   "outputs": [],
   "source": [
    "#job_type by salary_index table "
   ]
  },
  {
   "cell_type": "code",
   "execution_count": null,
   "metadata": {},
   "outputs": [],
   "source": []
  }
 ],
 "metadata": {
  "kernelspec": {
   "display_name": "Python 3",
   "language": "python",
   "name": "python3"
  },
  "language_info": {
   "codemirror_mode": {
    "name": "ipython",
    "version": 3
   },
   "file_extension": ".py",
   "mimetype": "text/x-python",
   "name": "python",
   "nbconvert_exporter": "python",
   "pygments_lexer": "ipython3",
   "version": "3.7.6"
  }
 },
 "nbformat": 4,
 "nbformat_minor": 4
}
